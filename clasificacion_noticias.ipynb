{
  "nbformat": 4,
  "nbformat_minor": 0,
  "metadata": {
    "colab": {
      "provenance": [],
      "mount_file_id": "1G5M-YnYfVfpG3B80ppdf8GqgTEY5APMI",
      "authorship_tag": "ABX9TyPbWYcOVVtAjLxJU7H5SB2n",
      "include_colab_link": true
    },
    "kernelspec": {
      "name": "python3",
      "display_name": "Python 3"
    },
    "language_info": {
      "name": "python"
    }
  },
  "cells": [
    {
      "cell_type": "markdown",
      "metadata": {
        "id": "view-in-github",
        "colab_type": "text"
      },
      "source": [
        "<a href=\"https://colab.research.google.com/github/elabeeel/News-classification/blob/main/clasificacion_noticias.ipynb\" target=\"_parent\"><img src=\"https://colab.research.google.com/assets/colab-badge.svg\" alt=\"Open In Colab\"/></a>"
      ]
    },
    {
      "cell_type": "code",
      "execution_count": 7,
      "metadata": {
        "colab": {
          "base_uri": "https://localhost:8080/"
        },
        "id": "fmb1tSSiMi4i",
        "outputId": "6739110c-6394-4189-f461-d1ea6e83ce69"
      },
      "outputs": [
        {
          "output_type": "stream",
          "name": "stderr",
          "text": [
            "[nltk_data] Downloading package stopwords to /root/nltk_data...\n",
            "[nltk_data]   Unzipping corpora/stopwords.zip.\n"
          ]
        }
      ],
      "source": [
        "import pandas as pd\n",
        "import numpy as np\n",
        "from matplotlib import pyplot as plt\n",
        "import seaborn as sns\n",
        "import nltk\n",
        "import re\n",
        "from nltk.corpus import stopwords\n",
        "from nltk.stem.porter import PorterStemmer\n",
        "from sklearn.feature_extraction.text import TfidfVectorizer\n",
        "from sklearn.utils import shuffle\n",
        "from sklearn.model_selection import train_test_split\n",
        "from sklearn.svm import SVC\n",
        "from sklearn.metrics import accuracy_score, classification_report\n",
        "import nltk\n",
        "nltk.download('stopwords')\n",
        "\n",
        "# Ruta al archivo CSV en tu Google Drive\n",
        "business = '/content/drive/MyDrive/clasificacion noticias/business_data.csv'\n",
        "education = '/content/drive/MyDrive/clasificacion noticias/education_data.csv'\n",
        "entertainment = '/content/drive/MyDrive/clasificacion noticias/entertainment_data.csv'\n",
        "sports = '/content/drive/MyDrive/clasificacion noticias/sports_data.csv'\n",
        "technology = '/content/drive/MyDrive/clasificacion noticias/technology_data.csv'\n",
        "# Cargar los archivos CSV\n",
        "df1 = pd.read_csv(business)\n",
        "df2 = pd.read_csv(education)\n",
        "df3 = pd.read_csv(entertainment)\n",
        "df4 = pd.read_csv(sports)\n",
        "df5 = pd.read_csv(technology)\n",
        "\n",
        "# Combinar DataFrames\n",
        "dfs = [df1, df2, df3, df4, df5]\n",
        "df = pd.concat(dfs)\n",
        "\n",
        "# Mezclar datos\n",
        "df = shuffle(df)\n",
        "\n",
        "# Eliminar columnas innecesarias\n",
        "df.drop(columns=[\"url\"], inplace=True)\n",
        "\n",
        "# Mapear categorías a valores numéricos\n",
        "def map_category(category):\n",
        "    if category == \"business\":\n",
        "        return 0\n",
        "    elif category == \"education\":\n",
        "        return 1\n",
        "    elif category == \"entertainment\":\n",
        "        return 2\n",
        "    elif category == \"sports\":\n",
        "        return 3\n",
        "    elif category == \"technology\":\n",
        "        return 4\n",
        "    else:\n",
        "        return -1  # Categoría desconocida\n",
        "\n",
        "df['Category'] = df['category'].apply(map_category)\n",
        "df.drop(['category'], axis=1, inplace=True)\n",
        "\n",
        "# Combinar columnas de texto\n",
        "df['Content'] = df['headlines'] + ' ' + df['description'] + ' ' + df['content']\n",
        "df.drop(['headlines', 'description', 'content'], axis=1, inplace=True)\n",
        "\n",
        "# Stemming y eliminación de stopwords\n",
        "stop_words = set(stopwords.words('english'))\n",
        "ps = PorterStemmer()\n",
        "\n",
        "def stemming(content):\n",
        "    content = re.sub('[^a-zA-Z]', ' ', content)\n",
        "    content = content.lower()\n",
        "    content = content.split()\n",
        "    content = [ps.stem(word) for word in content if not word in stop_words]\n",
        "\n",
        "    content = ' '.join(content)\n",
        "    return content\n",
        "\n",
        "df['Content'] = df['Content'].apply(stemming)\n"
      ]
    },
    {
      "cell_type": "code",
      "source": [
        "# Dividir datos en conjuntos de entrenamiento y prueba\n",
        "X = df['Content']\n",
        "Y = df['Category']\n",
        "X_train, X_test, Y_train, Y_test = train_test_split(X, Y, test_size=0.2, stratify=Y, random_state=42)\n",
        "\n",
        "# Vectorizar datos con TF-IDF\n",
        "vc = TfidfVectorizer()\n",
        "X_train = vc.fit_transform(X_train)\n",
        "X_test = vc.transform(X_test)\n",
        "\n",
        "# Entrenar modelo SVM\n",
        "model = SVC()\n",
        "model.fit(X_train, Y_train)\n",
        "\n",
        "# Evaluar el modelo\n",
        "Y_pred = model.predict(X_test)\n",
        "print(\"Precisión del modelo:\", accuracy_score(Y_test, Y_pred))\n",
        "print(classification_report(Y_test, Y_pred))"
      ],
      "metadata": {
        "colab": {
          "base_uri": "https://localhost:8080/"
        },
        "id": "ss7kTxjfS-DL",
        "outputId": "47f4c78d-7bf4-4879-9641-b19f83cee99f"
      },
      "execution_count": 8,
      "outputs": [
        {
          "output_type": "stream",
          "name": "stdout",
          "text": [
            "Precisión del modelo: 0.9875\n",
            "              precision    recall  f1-score   support\n",
            "\n",
            "           0       0.98      0.98      0.98       400\n",
            "           1       0.99      0.98      0.99       400\n",
            "           2       1.00      1.00      1.00       400\n",
            "           3       0.99      1.00      1.00       400\n",
            "           4       0.97      0.97      0.97       400\n",
            "\n",
            "    accuracy                           0.99      2000\n",
            "   macro avg       0.99      0.99      0.99      2000\n",
            "weighted avg       0.99      0.99      0.99      2000\n",
            "\n"
          ]
        }
      ]
    },
    {
      "cell_type": "code",
      "source": [
        "def make_predictions(headlines, description, content):\n",
        "    # Preprocesar el texto de la noticia\n",
        "    text = headlines + ' ' + description + ' ' + content\n",
        "    text = stemming(text)\n",
        "    text = vc.transform([text])  # Vectorizar el texto\n",
        "\n",
        "    # Predecir la categoría\n",
        "    val = model.predict(text)\n",
        "\n",
        "    # Convertir la predicción numérica a categoría\n",
        "    def val_to_category(val):\n",
        "        if val == 0:\n",
        "            return \"business\"\n",
        "        elif val == 1:\n",
        "            return \"education\"\n",
        "        elif val == 2:\n",
        "            return \"entertainment\"\n",
        "        elif val == 3:\n",
        "            return \"sports\"\n",
        "        elif val == 4:\n",
        "            return \"technology\"\n",
        "        else:\n",
        "            return \"desconocida\"\n",
        "\n",
        "    category = val_to_category(int(val[0]))\n",
        "    print(\"Según el texto, esta noticia es sobre:\", category)"
      ],
      "metadata": {
        "id": "35wq3sZmTjUz"
      },
      "execution_count": 9,
      "outputs": []
    },
    {
      "cell_type": "code",
      "source": [
        "# Ejemplo de noticia de deportes\n",
        "headlines = \"Equipo A gana el campeonato\"\n",
        "description = \"El equipo A venció al equipo B en la final del campeonato.\"\n",
        "content = \"El partido fue muy emocionante y se definió en el último minuto...\"\n",
        "make_predictions(headlines, description, content)\n",
        "\n",
        "# Ejemplo de noticia de tecnología\n",
        "headlines = \"Nueva versión del sistema operativo\"\n",
        "description = \"La compañía X lanza una nueva versión de su sistema operativo con mejoras...\"\n",
        "content = \"Las nuevas características incluyen...\"\n",
        "make_predictions(headlines, description, content)"
      ],
      "metadata": {
        "colab": {
          "base_uri": "https://localhost:8080/"
        },
        "id": "pJn4UsK9TqkV",
        "outputId": "0ce16cf5-b31d-4f98-b846-2c032a4273a8"
      },
      "execution_count": 10,
      "outputs": [
        {
          "output_type": "stream",
          "name": "stdout",
          "text": [
            "Según el texto, esta noticia es sobre: sports\n",
            "Según el texto, esta noticia es sobre: technology\n"
          ]
        }
      ]
    }
  ]
}